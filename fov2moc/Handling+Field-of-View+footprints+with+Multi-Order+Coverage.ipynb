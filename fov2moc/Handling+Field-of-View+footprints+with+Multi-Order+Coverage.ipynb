{
 "cells": [
  {
   "cell_type": "markdown",
   "metadata": {},
   "source": [
    "# Handling Field-of-View footprints with Multi-Order Coverage (v0)"
   ]
  },
  {
   "cell_type": "markdown",
   "metadata": {},
   "source": [
    "This document explains how the Field-of-View (FoV) footprints can be easily and efficiently visualized and processed using [Multi-Order Coverage (MOC)](http://ivoa.net/documents/MOC/20140602/REC-MOC-1.0-20140602.pdf) maps based on [HEALPix](http://healpix.sourceforge.net/) sky tessellation. \n",
    "\n",
    "We convert the FoV footprints in a **MOC region** and subsequently, we show operations - union, intersection, difference and catalog queries -  by filtering the keywords reported in the FITS-header files.\n",
    "\n",
    "\n",
    "### Testing version: Installation and initialization\n",
    "\n",
    "Download the entire directory **FoV2moc** and run the tutorial there.\n",
    "\n",
    "As the code runs, the results are displayed in real time in the [Aladin Sky Atlas](http://aladin.u-strasbg.fr/). Download Aladin from http://aladin.u-strasbg.fr/java/Aladin.jar and run it by typing\n",
    "\n",
    "                             java -Xmx1024m -jar Aladin.jar\n",
    "                             \n",
    "We will need [healpy](https://healpy.readthedocs.org/en/latest/) for reading the probability sky map files, [mocpy](https://github.com/tboch/mocpy) for parsing and manipulating MOCs and [astropy](http://www.astropy.org/).  \n",
    "\n",
    "**NOTE: download and install the modified version of mocpy**\n",
    "\n",
    "    git clone https://github.com/ggreco77/mocpy\n",
    "    cd mocpy\n",
    "    (sudo) python3 setup.py install"
   ]
  },
  {
   "cell_type": "code",
   "execution_count": null,
   "metadata": {
    "collapsed": true
   },
   "outputs": [],
   "source": [
    "# testing - download the .py files in the folder\n",
    "from aladinSAMP import AladinScriptCommands \n",
    "aladin = AladinScriptCommands()\n",
    "\n",
    "from mocpy import MOC"
   ]
  },
  {
   "cell_type": "markdown",
   "metadata": {},
   "source": [
    "# Coverage of a gravitational-wave skymap"
   ]
  },
  {
   "cell_type": "markdown",
   "metadata": {},
   "source": [
    "Here we simulate a set of follow-up observations performed on a gravitational-wave sky localization by different instruments at various wavelenghts and observational times. There are 20 random observations in 6 different filters: \n",
    "\n",
    "| filter | n. footprints |  FoV size  |\n",
    "|:------:|:-------------:|:----------:|\n",
    "|   g    |       4       |  3°x3°     |\n",
    "|   r    |       4       |  2°x2°     |\n",
    "|   i    |       3       |  2.5°x2.5° |\n",
    "|   z    |       3       |  1°x1°     |\n",
    "|   J    |       3       |  1°x1°     |\n",
    "|   H    |       3       |  1°x1°     |\n",
    "\n",
    "\n",
    "### Loading the main EM-followUP observational parameters\n",
    "\n",
    "For this tutorial we use the simulated sky maps from [**The First Two Years of Electromagnetic Follow-Up with Advanced LIGO and Virgo**](http://arxiv.org/abs/1404.5623) for compact binary Coalescence (CBC) sources. This is the event 450465."
   ]
  },
  {
   "cell_type": "code",
   "execution_count": null,
   "metadata": {
    "collapsed": true
   },
   "outputs": [],
   "source": [
    "# get background\n",
    "aladin.get_hips( \"P/Mellinger/color\" )\n",
    "\n",
    "# loading the 10%/50%/90% MOC confidence levels of event id 450465\n",
    "aladin.send_file(\"id_450465_moc01.fits\")\n",
    "aladin.rename(\"id_450465_moc01.fits\")\n",
    "aladin.set_moc(\"id_450465_moc01.fits\")\n",
    "\n",
    "aladin.send_file(\"id_450465_moc05.fits\")\n",
    "aladin.rename(\"id_450465_moc05.fits\")\n",
    "aladin.set_moc(\"id_450465_moc05.fits\")\n",
    "\n",
    "aladin.send_file(\"id_450465_moc09.fits\")\n",
    "aladin.rename(\"id_450465_moc09.fits\")\n",
    "aladin.set_moc(\"id_450465_moc09.fits\")"
   ]
  },
  {
   "cell_type": "code",
   "execution_count": null,
   "metadata": {
    "collapsed": true
   },
   "outputs": [],
   "source": [
    "# testing - download the .py files in the folder\n",
    "from fov2moc import Fov2Moc, group_headers\n",
    "\n",
    "# fov id  \n",
    "fov_ids = [\"p1_g\", \"p2_g\", \"p3_g\", \"p4_g\", \n",
    "           \"p5_r\",\"p6_r\", \"p7_r\", \"p8_r\", \n",
    "           \"p9_i\", \"p10_i\", \"p11_i\", \n",
    "           \"p12_z\", \"p13_z\", \"p14_z\", \n",
    "           \"p15_J\",\"p16_J\", \"p17_J\",\n",
    "           \"p18_H\", \"p19_H\", \"p20_H\",]\n",
    "\n",
    "# right ascension of the fov center in deg - ICRSd\n",
    "ra_centers = [283.63515000, 272.97515, 271.2117, 274.48242, \n",
    "              280.68008, 275.07583, 275.07583, 273.07283, \n",
    "              273.1729, 267.1338, 272.15805,\n",
    "              277.46756, 278.47405, 276.46107, \n",
    "              278.67837, 284.82329, 263.15765,\n",
    "              285.52325, 284.51599, 284.51599,\n",
    "              ]\n",
    "\n",
    "# declination of the fov center in deg - ICRSd\n",
    "dec_centers = [-02.36365, -05.96273, -04.98284, -07.18076, \n",
    "               -03.51348, -05.14232, -03.14232, -03.14232, \n",
    "               -04.38773, -05.1756, -08.1624, \n",
    "               -06.51501, -06.51501, -06.51501,\n",
    "               -10.95555, -06.78932, -03.01335, \n",
    "               -06.88793, -06.88793, -05.88793,\n",
    "               ]\n",
    "\n",
    "# fov widths\n",
    "fov_widths = [3, 3, 3, 3, \n",
    "              2, 2, 2, 2, \n",
    "              2.5, 2.5, 2.5, \n",
    "              1, 1, 1,\n",
    "              1, 1, 1, \n",
    "              1, 1, 1, ]\n",
    "             \n",
    "# fov heights\n",
    "fov_heights = [3, 3, 3, 3,\n",
    "               2, 2, 2, 2, \n",
    "               2.5, 2.5, 2.5,\n",
    "               1, 1, 1, \n",
    "               1, 1, 1,\n",
    "               1, 1, 1, ]\n",
    "\n",
    "# id instruments\n",
    "instruments = [\"instrument_g\", \"instrument_g\",\"instrument_g\",\"instrument_g\",\n",
    "               \"instrument_r\",\"instrument_r\", \"instrument_r\",\"instrument_r\",\n",
    "               \"instrument_i\",\"instrument_i\",\"instrument_i\", \n",
    "               \"instrument_z\",\"instrument_z\",\"instrument_z\",\n",
    "               \"instrument_J\",\"instrument_J\", \"instrument_J\",\n",
    "               \"instrument_H\",\"instrument_H\",\"instrument_H\",]\n",
    "\n",
    "# id filters\n",
    "filters = [\"g\", \"g\", \"g\", \"g\", \n",
    "           \"r\", \"r\", \"r\", \"r\", \n",
    "           \"i\", \"i\",\"i\", \n",
    "           \"z\", \"z\", \"z\", \n",
    "           \"J\", \"J\", \"J\", \n",
    "           \"H\", \"H\", \"H\",]\n",
    "\n",
    "# magnitude limits\n",
    "lim_mags = [22, 22, 22, 22, \n",
    "            23, 23, 23, 23, \n",
    "            20, 20, 20, \n",
    "            18, 18, 18, \n",
    "            15, 15, 15,\n",
    "            13, 13, 13,]\n",
    "\n",
    "obs_times = [\"2018-07-04 12:24:49.6\",\"2018-07-04 12:24:49.6\",\"2018-07-04 12:24:49.6\",\"2018-07-04 12:24:49.6\",\n",
    "            \"2018-07-04 12:24:49.6\",\"2018-07-04 12:24:49.6\",\"2018-07-04 12:24:49.6\",\"2018-07-04 12:24:49.6\",\n",
    "            \"2018-07-04 12:24:49.6\",\"2018-07-04 12:24:49.6\",\"2018-07-04 12:24:49.6\",\n",
    "            \"2018-07-04 12:24:49.6\",\"2018-07-04 12:24:49.6\",\"2018-07-04 12:24:49.6\",\n",
    "            \"2018-07-04 12:24:49.6\",\"2018-07-04 12:24:49.6\",\"2018-07-04 12:24:49.6\",\n",
    "            \"2018-07-04 12:24:49.6\",\"2018-07-04 12:24:49.6\",\"2018-07-04 12:24:49.6\",]\n",
    "\n",
    "#zip  lists\n",
    "zipped_list = zip(fov_ids, ra_centers, dec_centers, fov_widths, fov_heights, instruments, filters, \n",
    "                  lim_mags, obs_times)\n",
    "\n",
    "# converting the FoV footprints into MOC - they are shown in the aladin folder named \"pointings\"\n",
    "for fov_id, ra_center, dec_center, fov_width, fov_height, instrument, filter, lim_mag, obs_time in zipped_list:\n",
    "\n",
    "    Fov2Moc(fov_id=fov_id, ra_center=ra_center, dec_center=dec_center,\n",
    "            fov_width=fov_width, fov_height=fov_height, instrument=instrument,\n",
    "            id_event='id_450465', pipeline='bayestar_F2Y',\n",
    "            filter=filter, obs_time=obs_time, lim_mag=lim_mag )"
   ]
  },
  {
   "cell_type": "markdown",
   "metadata": {},
   "source": [
    "<img src=\"https://github.com/ggreco77/Multi-Order-Coverage-of-probability-skymaps/blob/master/fov2moc/all_obs.jpg?raw=true\" width=\"500\" height=\"500\"> \n",
    "**Aladin Screenshot - Field-of-View footprints -  20 random observations in 6 different filters.** 10%/50%/90% confidence levels are displayed in red, blue and orange.\n",
    "\n"
   ]
  },
  {
   "cell_type": "markdown",
   "metadata": {},
   "source": [
    "<img src=\"https://github.com/ggreco77/Multi-Order-Coverage-of-probability-skymaps/blob/master/fov2moc/g_obs.jpg?raw=true\" width=\"350\" height=\"350\" align = \"left\" > \n",
    "<img src=\"https://github.com/ggreco77/Multi-Order-Coverage-of-probability-skymaps/blob/master/fov2moc/r_obs.jpg?raw=true\" width=\"350\" height=\"350\" align = \"right\"> \n",
    "<img src=\"https://github.com/ggreco77/Multi-Order-Coverage-of-probability-skymaps/blob/master/fov2moc/i_obs.jpg?raw=true\" width=\"350\" height=\"350\" align = \"left\"> \n",
    "<img src=\"https://github.com/ggreco77/Multi-Order-Coverage-of-probability-skymaps/blob/master/fov2moc/z_obs.jpg?raw=true\" width=\"350\" height=\"350\" align = \"right\"> \n",
    "<img src=\"https://github.com/ggreco77/Multi-Order-Coverage-of-probability-skymaps/blob/master/fov2moc/J_obs.jpg?raw=true\" width=\"350\" height=\"350\" align = \"left\"> \n",
    "<img src=\"https://github.com/ggreco77/Multi-Order-Coverage-of-probability-skymaps/blob/master/fov2moc/H_obs.jpg?raw=true\" width=\"350\" height=\"350\" align = \"right\"> "
   ]
  },
  {
   "cell_type": "markdown",
   "metadata": {},
   "source": [
    "**Aladin Screenshots** - *From left to right:* **g**, **r**, **i**, **z**, **J**  and **H** filters."
   ]
  },
  {
   "cell_type": "markdown",
   "metadata": {},
   "source": [
    "### Ex. 1 Group the Observation in g filter - measure the sky area and the skymap intersection (10% c.l.)"
   ]
  },
  {
   "cell_type": "code",
   "execution_count": null,
   "metadata": {},
   "outputs": [],
   "source": [
    "\n",
    "# selecting the g-filter images\n",
    "g_images = group_headers(fov_ids = fov_ids, filter=\"g\")\n",
    "print (\"Images in g filter: \", g_images)\n",
    "\n",
    "mocs=[]\n",
    "for g_image in g_images:\n",
    "    g_image = MOC.from_moc_fits_file(g_image)\n",
    "\n",
    "    mocs.append(g_image)\n",
    "    \n",
    "# union the g-filter image in a bigger MOC\n",
    "UNION_g = g_image.union_moc_list(mocs)\n",
    "\n",
    "# writing the file \"UNION_g\"\n",
    "UNION_g.write(\"UNION_g\", write_to_file=True)\n",
    "\n",
    "# sending to Aladin plan\n",
    "aladin.send_file(\"UNION_g\")\n",
    "aladin.rename(\"UNION_g\")\n",
    "\n",
    "\n",
    "# square degrees in a whole sphere\n",
    "from math import pi\n",
    "square_degrees_sphere = (360.0**2)/pi\n",
    "\n",
    "# printing area\n",
    "area_sq2 = round( ( UNION_g.sky_fraction * square_degrees_sphere ), 1 )\n",
    "print ( ' The union area is = ', area_sq2, 'sq. deg' )\n",
    "\n",
    "\n",
    "# intersection between the g-filter images and the 90% c.l.\n",
    "UNION_g = MOC.from_moc_fits_file(\"UNION_g\")\n",
    "cl_90 = MOC.from_moc_fits_file(\"id_450465_moc01.fits\")\n",
    "\n",
    "intersection_union_g_cl_90 = UNION_g.intersection(cl_90)\n",
    "\n",
    "# printing area\n",
    "area_sq2 = round( ( intersection_union_g_cl_90.sky_fraction * square_degrees_sphere ), 1 )\n",
    "print ( ' The intersection between the all g-filter images and the 10% cl. is = ', area_sq2, 'sq. deg' )\n",
    "\n",
    "\n",
    "# writing the intersection fie\n",
    "intersection_union_g_cl_90.write(\"intersection_union_g_cl_10\", write_to_file=True)\n",
    "\n",
    "# sending to Aladin plan\n",
    "aladin.send_file(\"intersection_union_g_cl_10\")\n",
    "aladin.rename(\"intersection_union_g_cl_10\")\n"
   ]
  },
  {
   "cell_type": "markdown",
   "metadata": {
    "collapsed": true
   },
   "source": [
    "\n",
    "<img src=\"https://github.com/ggreco77/Multi-Order-Coverage-of-probability-skymaps/blob/master/fov2moc/inter_union_g_cl_10.jpg?raw=true\" width=\"500\" height=\"500\"> \n",
    "**Aladin Screenshot -  in white the intersection between the g-filter images and the 10% cl.**\n"
   ]
  },
  {
   "cell_type": "markdown",
   "metadata": {},
   "source": [
    "### Query the GLADE catalog inside the g-filter images"
   ]
  },
  {
   "cell_type": "markdown",
   "metadata": {
    "collapsed": true
   },
   "source": [
    "**In progress**"
   ]
  },
  {
   "cell_type": "markdown",
   "metadata": {},
   "source": [
    "## Group the observation using the obs_time in the headers\n",
    "\n",
    "\n",
    "**IN PROGRESS**"
   ]
  },
  {
   "cell_type": "code",
   "execution_count": null,
   "metadata": {
    "collapsed": true
   },
   "outputs": [],
   "source": []
  }
 ],
 "metadata": {
  "kernelspec": {
   "display_name": "Python 3",
   "language": "python",
   "name": "python3"
  },
  "language_info": {
   "codemirror_mode": {
    "name": "ipython",
    "version": 3
   },
   "file_extension": ".py",
   "mimetype": "text/x-python",
   "name": "python",
   "nbconvert_exporter": "python",
   "pygments_lexer": "ipython3",
   "version": "3.6.3"
  }
 },
 "nbformat": 4,
 "nbformat_minor": 2
}
