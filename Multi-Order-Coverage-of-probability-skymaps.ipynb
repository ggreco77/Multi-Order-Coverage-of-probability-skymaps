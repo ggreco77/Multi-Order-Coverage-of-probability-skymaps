{
 "cells": [
  {
   "cell_type": "markdown",
   "metadata": {},
   "source": [
    "<img style=\"float: left;\" src=\"https://github.com/ggreco77/Multi-Order-Coverage-of-probability-skymaps/blob/master/ligo-virgo-300x120.png?raw=true\"> "
   ]
  },
  {
   "cell_type": "markdown",
   "metadata": {},
   "source": [
    "# Handling gravitational-wave sky maps with Multi-Order Coverage"
   ]
  },
  {
   "cell_type": "markdown",
   "metadata": {},
   "source": [
    "This document explains how gravitational wave sky maps can be easily and efficiently visualized and processed using [Multi-Order Coverage (MOC)](http://ivoa.net/documents/MOC/20140602/REC-MOC-1.0-20140602.pdf) maps based on [HEALPix](http://healpix.sourceforge.net/) sky tessellation. \n",
    "We compute the MOC region at a given probability level and subsequently, we simultaneously query databases for retrieving objects whose position falls within this MOC map. If databases are adapted to supporting MOC based queries, they will offer then a useful method allowing any kind of sky region query.\n",
    "\n",
    "For this tutorial we use the simulated sky maps from [**The First Two Years of Electromagnetic Follow-Up with Advanced LIGO and Virgo**](http://arxiv.org/abs/1404.5623) for compact binary Coalescence (CBC) sources. The sky maps for burst events are simulated from [**Localization of short duration gravitational-wave transients with the early advanced LIGO and Virgo detectors**](http://arxiv.org/abs/1409.2435).\n",
    "A gallery of these sky maps is shown [here](https://losc.ligo.org/s/skymapViewer/skymaps.html).\n",
    "\n",
    "We provide sample code in Python; you can download this document and run the code samples in [IPython Notebook](http://ipython.org/notebook.html) (now known as the Jupyter Notebook). The results are displayed in real time in [Aladin Sky Atlas](http://aladin.u-strasbg.fr/) which is embedded in the document.\n",
    "\n",
    " \n",
    "\n",
    "## Table of Contents\n",
    "\n",
    "1. [Installation and initialization](#1.-Installation-and-initialization)\n",
    "    1. [Sky map visualization with Aladin](#1.A-Sky-map-visualization-with-Aladin)\n",
    "    1. [Python packages](#1.B-Python-packages)\n",
    "1. [Multiscale meshes of gravitational-wave sky maps using MOC](#2.-Multiscale-meshes-of-gravitational-wave-sky-maps-using-MOC)\n",
    "     1. [CBC sky maps](#2.A-CBC-sky-maps)\n",
    "     1. [Event id 18951](#2.B-Event-id-18951)\n",
    "1. [Query Catalogs from MOCs](#3.-Query-Catalogs-from-MOCs)\n",
    "    1. [Query a single catalog](#3.A-Query-a-single-catalog)\n",
    "    1. [Ranked list of galaxies in 3D sky map](#3.B-Ranked-list-of-galaxies-in-3D-sky-map)\n",
    "    1. [Queries running simultaneously](#3.C-Queries-running-simultaneously) \n",
    "1. [Operation between MOC maps](#4.-Operation-between-MOC-maps)\n",
    "    1. [Intersection between MOC skymaps and VizieR tables footprints](#4.A-Intersection-between-MOC-skymaps-and-VizieR-tables-footprints)\n",
    "1. [Utility](#5.-Utility)\n",
    "    1. [Interactive MOCs](#5.A-Interactive-MOCs)"
   ]
  },
  {
   "cell_type": "markdown",
   "metadata": {},
   "source": [
    "## 1. Installation and initialization\n"
   ]
  },
  {
   "cell_type": "markdown",
   "metadata": {},
   "source": [
    "### 1.A Sky map visualization with Aladin\n",
    "The interoperability between the Aladin Sky Atlas and the Python function outputs is obtained using [SAMP](http://www.ivoa.net/documents/SAMP/) (Simple Application Messaging Protocol). The best performance is achieved by installing Aladin Desktop and the Aladin java applet is embedded in the notebook. \n",
    "Anyhow, a detach button is supplied to disjoin the Aladin window. \n",
    "\n",
    "As the code runs, the results are displayed in real time in the Aladin planes. **Before running the notebook check the SAMP connection: Aladin bar --> Interop --> Connect with SAMP.** "
   ]
  },
  {
   "cell_type": "code",
   "execution_count": null,
   "metadata": {
    "collapsed": false,
    "scrolled": true
   },
   "outputs": [],
   "source": [
    "from IPython.core.display import HTML\n",
    "HTML('<iframe src=http://aladin.u-strasbg.fr/java/nph-aladin.pl width=770 height=930></iframe>')"
   ]
  },
  {
   "cell_type": "markdown",
   "metadata": {},
   "source": [
    "### 1.B Python packages\n",
    "\n",
    "We will need [healpy](https://healpy.readthedocs.org/en/latest/) for reading the probability sky map files and [mocpy](https://github.com/tboch/mocpy) for parsing and manipulating MOCs.\n",
    "\n",
    "For this tutorial, we will also use the [astropy.vo](http://astrofrog-debug.readthedocs.org/en/latest/vo/index.html) astropy subpackage for accessing to the Virtual Observatory (VO) services. The [astropy.utils](http://astrofrog-debug.readthedocs.org/en/latest/utils/) subpackage contains general-purpose utility functions, [astropy.table](http://docs.astropy.org/en/stable/table/) provides functionality for storing and manipulating heterogeneous tables, [numpy](http://www.numpy.org/) for scientific computing with Python, [urlparse](https://docs.python.org/2/library/urlparse.html) is a standard interface to break Uniform Resource Locator (URL) strings up in components (the urlparse module is renamed to urllib.parse in Python 3) and  [future](https://pypi.python.org/pypi/future) for running under Python 2 and Python 3. The json files - in which the contour lines are saved - are manipulated using [json](https://docs.python.org/2/library/json.html) package. The last section makes use of [ipywidgets](https://pypi.python.org/pypi/ipywidgets); they are interactive HTML widgets for Jupyter notebooks and the IPython kernel."
   ]
  },
  {
   "cell_type": "markdown",
   "metadata": {},
   "source": [
    "SAMP is a protocol that is used by a number of other tools such as [TOPCAT](http://www.star.bris.ac.uk/~mbt/topcat/), [SAO Ds9](http://ds9.si.edu/site/Home.html), and [Aladin](http://aladin.u-strasbg.fr/); it is possible to send and receive data to and from these tools.\n",
    "Here the [Aladin script commands](http://aladin.u-strasbg.fr/java/AladinScriptManual.gml) are converted in Python strings and sent via [SAMPIntegratedClient class](http://jakevdp.github.io/astropy/api/astropy.vo.samp.SAMPIntegratedClient.html#astropy.vo.samp.SAMPIntegratedClient). "
   ]
  },
  {
   "cell_type": "code",
   "execution_count": null,
   "metadata": {
    "collapsed": false
   },
   "outputs": [],
   "source": [
    "from __future__ import print_function\n",
    "\n",
    "# Sending Aladin script commands\n",
    "\n",
    "def send_script( script ):\n",
    "    \n",
    "    \"\"\"\n",
    "    \n",
    "    Sending script commands to Aladin via SAMP\n",
    "    \n",
    "    \"\"\"\n",
    "    \n",
    "    from astropy.vo.samp import SAMPIntegratedClient\n",
    "     \n",
    "    client = SAMPIntegratedClient()\n",
    "    client.connect()\n",
    "\n",
    "    params = {}\n",
    "    message = {} \n",
    "    message[ \"samp.mtype\" ] = \"script.aladin.send\"\n",
    "    message[ \"samp.params\" ] = { \"script\" : script }  \n",
    "\n",
    "    client.notify_all( message )\n",
    "\n",
    "    client.disconnect()\n",
    "\n",
    "    \n",
    "def cview( url ): \n",
    "    \n",
    "    \"\"\"\n",
    "    \n",
    "    Creation of view: url\n",
    "    \n",
    "    \"\"\"\n",
    "    cview_url = 'cview' + ' ' + url\n",
    "    send_script( cview_url )\n",
    "\n",
    "    \n",
    "def rename ( plane ):\n",
    "    \n",
    "    \"\"\"\n",
    "    \n",
    "    Rename plane\n",
    "\n",
    "    \"\"\"\n",
    "    \n",
    "    rename_plane = 'rename' + ' ' + plane\n",
    "    send_script( rename_plane )\n",
    "        \n",
    "        \n",
    "def get_hips ( catalog ): \n",
    "    \n",
    "    \"\"\"\n",
    "    \n",
    "    Call a remote image or tabular data server\n",
    "    \n",
    "    \"\"\"\n",
    "\n",
    "    hips = 'get' + ' ' + 'hips(' + catalog + ')'\n",
    "    send_script ( hips )\n",
    "    \n",
    "\n",
    "def cview_plane ( plane ):\n",
    "    \n",
    "    \"\"\"\n",
    "    \n",
    "    Creation of view: plane\n",
    "      \n",
    "    \"\"\"\n",
    "    \n",
    "    show_plane = 'cview'  + ' \"'+plane+'\"'\n",
    "    send_script ( show_plane )\n",
    "    \n",
    "    \n",
    "def hide ( plane ):\n",
    "    \n",
    "    \"\"\"\n",
    "    \n",
    "    Hide plane\n",
    "     \n",
    "    \"\"\"\n",
    "    \n",
    "    hide_plane = 'hide'  + ' '+ plane\n",
    "    send_script ( hide_plane )\n",
    "    \n",
    "    \n",
    "def draw_line ( line_values ):\n",
    "    \n",
    "    \"\"\"\n",
    "    \n",
    "    Graphical overlay commands: drawing a line\n",
    "    \n",
    "    \"\"\"\n",
    "    \n",
    "    draw_line = 'draw' + ' ' + 'line' + ' ' + line_values\n",
    "    send_script( draw_line )\n",
    "\n",
    "\n",
    "def draw_newtool (name):\n",
    "    \n",
    "    \"\"\"\n",
    "    \n",
    "    Graphical overlay commands:\n",
    "    creating  a new drawing plane\n",
    "\n",
    "    \"\"\"\n",
    "    \n",
    "    draw_newtool = 'draw' + ' ' + 'newtool' + ' ' + name\n",
    "    send_script( draw_newtool )\n",
    "    \n",
    "    \n",
    "def rm_all():\n",
    "    \n",
    "    \"\"\"\n",
    "    \n",
    "    Removing all planes\n",
    "    \n",
    "    \"\"\"\n",
    "    \n",
    "    rm_all = 'rm -all'\n",
    "    send_script( rm_all )\n",
    "    \n",
    "    \n",
    "def send_file( infile ):\n",
    "    \n",
    "    \"\"\"\n",
    "    \n",
    "    Sending file/table to Aladin plane via SAMP\n",
    "        \n",
    "    \"\"\"\n",
    "\n",
    "    global params\n",
    "     \n",
    "    from astropy.vo.samp import SAMPIntegratedClient\n",
    "     \n",
    "    client = SAMPIntegratedClient()\n",
    "    client.connect()\n",
    "    params = {}\n",
    "    \n",
    "    import sys\n",
    "    import os.path\n",
    "    \n",
    "    if sys.version > '3':\n",
    "        import urllib.parse\n",
    "        params[ \"url\" ] = urllib.parse.urljoin( 'file:', os.path.abspath( infile ) )\n",
    "    else:\n",
    "        import urlparse\n",
    "        params[ \"url\" ] = urlparse.urljoin( 'file:', os.path.abspath( infile ) )\n",
    "\n",
    "    message = {}\n",
    "    message[ \"samp.mtype\" ] = \"image.load.fits\"\n",
    "    message[ \"samp.params\" ] = params\n",
    "\n",
    "    client.notify_all( message )\n",
    "    client.disconnect()"
   ]
  },
  {
   "cell_type": "markdown",
   "metadata": {},
   "source": [
    "The functions *get_json_link* and *plot_contours_from_json*  are dedicated to manipulate .json files containing the contour plots of a probability sky map issued by LVC. *MOC_confidence_region*  is written to extract a MOC map setting a certain level of probability."
   ]
  },
  {
   "cell_type": "code",
   "execution_count": null,
   "metadata": {
    "collapsed": false
   },
   "outputs": [],
   "source": [
    "def get_json_link( json_link ):\n",
    "\n",
    "    \"\"\"\n",
    "    \n",
    "    Plotting contour lines from a specific url\n",
    "    \n",
    "    \"\"\"\n",
    "    \n",
    "    import json\n",
    "    import sys\n",
    "    import os.path\n",
    "    \n",
    "    # download the json file from \"url\" and save it locally under \"contour.json\"\n",
    "    if sys.version < '3':\n",
    "        import urllib\n",
    "        jsonfile = urllib.URLopener()\n",
    "        jsonfile.retrieve( json_link, \"contour.json\" )\n",
    "    \n",
    "    else:\n",
    "        import urllib.request\n",
    "        urllib.request.urlretrieve( json_link, \"contour.json\" )\n",
    "     \n",
    "    with open( 'contour.json' ) as data_file:\n",
    "       data = json.load( data_file )\n",
    "\n",
    "    contour_pieces = len( data[ 'contours' ] )\n",
    "\n",
    "    percentile = ('10-percentile','20-percentile','30-percentile','40-percentile',\n",
    "                  '50-percentile','60-percentile','70-percentile',\n",
    "                  '80-percentile','90-percentile')\n",
    "\n",
    "    for percentile_json in percentile:\n",
    "       draw_newtool ( percentile_json )\n",
    "       plot_contours_from_json( data, contour_pieces, percentile_json )\n",
    "        \n",
    "        \n",
    "def plot_contours_from_json( data, contour_pieces, percentile_json ):\n",
    "\n",
    "    \"\"\"\n",
    "    \n",
    "    Managing the contour lines in a LVC json file\n",
    "        \n",
    "    \"\"\"\n",
    "    \n",
    "    i = 0\n",
    "    for i in range( 0, contour_pieces ):\n",
    "        contour = data[ 'contours' ][ i ]\n",
    "        percentile = contour[ 'name' ]\n",
    "\n",
    "        if percentile == percentile_json:\n",
    "            values = contour[ 'coords' ]\n",
    "\n",
    "            # sending Aladin plane\n",
    "            line = ( str( values ).replace('[' , '' ).replace(']' , '') )\n",
    "            draw_line ( line )\n",
    "\n",
    "\n",
    "def MOC_confidence_region( infile, percentage, short_name = ' ' ):\n",
    "      \n",
    "    \"\"\"\n",
    "    \n",
    "    Multi-Order coverage map (MOC) of sky area enclosed within a contour plot\n",
    "    at a given confidence level.\n",
    "    \n",
    "    Input:\n",
    "         infile: healpix format\n",
    "                 LVC probability sky map\n",
    "         percentage: float\n",
    "                  probability percentage of the enclosed area  \n",
    "         short_name: str\n",
    "                 output file name\n",
    "     \n",
    "    Output: fits format\n",
    "                 MOC map named \"short_name\"_\"percentage\" \n",
    "                 \n",
    "                 Remark: for json format change the statement\n",
    "                 \"moc.write(short_name+'_MOC_'+str(percentage), format='fits' )\" -->  \n",
    "                 \"moc.write(short_name+'_MOC_'+str(percentage), format='json' )\"        \n",
    "\n",
    "    \"\"\"\n",
    " \n",
    "    import healpy as hp\n",
    "    import numpy as np\n",
    "     \n",
    "    #reading skymap\n",
    "    hpx = hp.read_map( infile, verbose = False )\n",
    "    npix = len( hpx )\n",
    "    nside = hp.npix2nside( npix )\n",
    " \n",
    "    sort = sorted( hpx, reverse = True )\n",
    "    cumsum = np.cumsum( sort )\n",
    "    index, value = min( enumerate( cumsum ), key = lambda x: abs( x[1] - percentage ) )\n",
    "\n",
    "    # finding ipix indices confined in a given percentage \n",
    "    index_hpx = range( 0, len( hpx ) )\n",
    "    hpx_index = np.c_[ hpx, index_hpx ]\n",
    "\n",
    "    sort_2array = sorted( hpx_index, key = lambda x: x[0], reverse = True )\n",
    "    value_contour = sort_2array[ 0:index ]\n",
    "\n",
    "    j = 1 \n",
    "    table_ipix_contour = [ ]\n",
    "\n",
    "    for i in range ( 0, len( value_contour ) ):\n",
    "        ipix_contour = int( value_contour[i][j] )\n",
    "        table_ipix_contour.append( ipix_contour )\n",
    "          \n",
    "     \n",
    "    # from index to polar coordinates\n",
    "    theta, phi = hp.pix2ang( nside, table_ipix_contour )\n",
    "\n",
    "    # converting these to right ascension and declination in degrees\n",
    "    ra = np.rad2deg( phi )\n",
    "    dec = np.rad2deg( 0.5 * np.pi - theta )\n",
    "\n",
    "\n",
    "    # creating an astropy.table with RA[deg] and DEC[deg] ipix positions\n",
    "    from astropy.table import Table\n",
    "    contour_ipix = Table([ ra, dec ], names = ('RA[deg]', 'DEC[deg]'), \n",
    "                         meta = {'ipix': 'ipix table'})\n",
    "     \n",
    "    \n",
    "    # setting MOC order\n",
    "    from math import log\n",
    "    moc_order = int( log( nside, 2 ) )\n",
    "\n",
    "    # creating a MOC map from the contour_ipix table\n",
    "    moc = MOC.from_table( contour_ipix, 'RA[deg]', 'DEC[deg]', moc_order )\n",
    "\n",
    "    # writing MOC file in fits\n",
    "    moc.write( short_name + '_MOC_' + str( percentage ), format = 'fits' )\n",
    "\n",
    "    # sending to Aladin plane\n",
    "    send_file( short_name + '_MOC_' + str( percentage ) )\n",
    "    cview( url = str( params[ 'url' ]) )\n",
    "    rename ( plane = short_name  + '_MOC_' + str( percentage ) )"
   ]
  },
  {
   "cell_type": "markdown",
   "metadata": {},
   "source": [
    "## 2. Multiscale meshes of gravitational-wave sky maps using MOC\n",
    "MOC is a multiscale mapping based on HEALPix sky tessellation. It is essentially a simple way to map irregular and complex sky regions into hierarchically grouped predefined cells.\n",
    "Each MOC cell is defined by two numbers: the hierarchy level (HEALPIX ORDER) and the pixel\n",
    "index (HEALPIX NPIX).The NUNIQ scheme defines an algorithm for packing an (ORDER, NPIX)\n",
    "pair into a single integer for compactness:\n",
    "\n",
    "$$uniq = 4\\times 4^{(order)} + npix$$\n",
    "\n",
    "\n",
    "** Caution. ** By reducing a map in only a single confidence region, the probability distribution within that region is irreversible lost; see also [Essick et al. (2015)](http://adsabs.harvard.edu/abs/2015ApJ...800...81E)."
   ]
  },
  {
   "cell_type": "markdown",
   "metadata": {},
   "source": [
    "### 2.A CBC sky maps \n",
    "The sky maps for compact binary Coalescence (CBC) are simulated from two analysis pipelines: the rapid pipeline - *Bayestar* - and the computationally intensive pipelines *Lalinference_ MCMC* or *Lalinference_Nest*.\n",
    "\n",
    "The rapid Bayesian position reconstruction code that will produce\n",
    "accurate sky maps less than a minute after any BNS merger detection.  The\n",
    "LALINFERENCE_MCMC (van der Sluys et al. [2008b](http://adsabs.harvard.edu/abs/2008ApJ...688L..61V); Raymond et al. [2009](http://adsabs.harvard.edu/abs/2009CQGra..26k4007R)), LALINFERENCE_NEST (Veitch & Vecchio [2010](http://adsabs.harvard.edu/abs/2010PhRvD..81f2003V)), and LALINFERENCE_BAMBI (Graff et al. [2012](http://adsabs.harvard.edu/abs/2012MNRAS.421..169G), [2013](http://mnras.oxfordjournals.org/content/441/2/1741)) stochastic samplers were also used to follow up a subset of detected GW events. Though these analyses are significantly more computationally costly than BAYESTAR, taking  hours  to  days,  they  can  provide  improved  sky  location estimates when the GW signal is very weak in one detector, and also yield not just sky localization but the full multidimensional probability distribution describing the parameters of a circularized compact binary merger."
   ]
  },
  {
   "cell_type": "markdown",
   "metadata": {},
   "source": [
    "### 2.B Event id 18951\n",
    "This is the event 18951 - LIGO Hanford and Livingston joint detection. It simulates the response from a binary neutron star event at 75 Mpc. Here, we map the sky region in which the 90% of probability is enclosed. The MOC region is shown in white shadow over a discrete set of contour plots; each line encloses a given percentage of probability level from 10% to 90% in step of 10% ([more about the contour plots](https://losc.ligo.org/s/skymapViewer/contours.html))."
   ]
  },
  {
   "cell_type": "code",
   "execution_count": null,
   "metadata": {
    "collapsed": false
   },
   "outputs": [],
   "source": [
    "# selecting an event id (2015);\n",
    "# http://www.ligo.org/scientists/first2years/\n",
    "event_id = '18951'\n",
    "\n",
    "# bayestar sky map\n",
    "skymap_pipeline = 'bayestar'\n",
    "\n",
    "# setting enclosed probability percentage \n",
    "prob_percentage = 0.9\n",
    "\n",
    "# loading the simulated CBC event id (2015)\n",
    "from astropy.utils.data import download_file\n",
    "\n",
    "url_id = 'http://www.ligo.org/scientists/first2years/2015/compare/'+event_id+'/'+skymap_pipeline+'.fits.gz'\n",
    "pipeline_event = download_file( url_id, cache = True, timeout = 300 )\n",
    "\n",
    "# sending to Aladin plane\n",
    "send_file ( pipeline_event )\n",
    "rename ( skymap_pipeline + event_id )\n",
    "\n",
    "# plotting contours from a specific url\n",
    "from mocpy import MOC\n",
    "get_json_link( 'https://losc.ligo.org/s/skymapViewer/json/skymaps/F2Y/'+event_id+'.json' )\n",
    "\n",
    "# MOC extraction: \n",
    "#        area enclosed within a specific contour plot at a given confidence level\n",
    "MOC_confidence_region( infile = pipeline_event, percentage = prob_percentage, \n",
    "                      short_name = skymap_pipeline + event_id)\n",
    "\n",
    "# loading the MOC file\n",
    "MOC_file = MOC.from_file( skymap_pipeline + event_id + '_MOC_' + str(prob_percentage) )\n",
    "\n",
    "# square degrees in a whole sphere\n",
    "from math import pi\n",
    "square_degrees_sphere = (360.0**2)/pi\n",
    "\n",
    "# printing area\n",
    "area_sq2 = round( ( MOC_file.sky_fraction * square_degrees_sphere ), 1 )\n",
    "print ( str( int( prob_percentage*100 ) )+'%' + ' area = ', area_sq2, 'sq. deg' )\n",
    "\n",
    "# loading DSS colored for sky background\n",
    "get_hips( \"P/DSS2/color\" )"
   ]
  },
  {
   "cell_type": "markdown",
   "metadata": {
    "collapsed": true
   },
   "source": [
    "<img src=\"https://github.com/ggreco77/Multi-Order-Coverage-of-probability-skymaps/blob/master/id18951.gif?raw=true\" width=\"600\" height=\"600\"> \n",
    "**Blink image between the contour plot and the MOC extraction of 90% area. See the completed and updated results in the section [Sky map visualization with Aladin](#1.A-Sky-map-visualization-with-Aladin)**."
   ]
  },
  {
   "cell_type": "code",
   "execution_count": null,
   "metadata": {
    "collapsed": false
   },
   "outputs": [],
   "source": [
    "# removing all planes\n",
    "rm_all()"
   ]
  },
  {
   "cell_type": "markdown",
   "metadata": {
    "collapsed": true
   },
   "source": [
    "# 3. Query Catalogs from MOCs\n",
    "In this section, we show how MOC maps can be use to query catalog objects that falls into the sky map region. The MOCs of all VizieR tables footprints are available [on line](http://alasky.u-strasbg.fr/footprints/tables/vizier/) (about 16.000 tables) and can be queried simultaneously in few seconds."
   ]
  },
  {
   "cell_type": "markdown",
   "metadata": {},
   "source": [
    "### 3.A Query a single catalog "
   ]
  },
  {
   "cell_type": "markdown",
   "metadata": {
    "collapsed": true
   },
   "source": [
    "As an example, we query the [Gravitational Wave Galaxy Catalog](https://arxiv.org/abs/1103.0695) from the MOC map obtained in section [2.B Event id 18951](#2.B-Event-id-18951). The source positions are displayed in red inside the MOC region drawn in white.\n"
   ]
  },
  {
   "cell_type": "code",
   "execution_count": null,
   "metadata": {
    "collapsed": false
   },
   "outputs": [],
   "source": [
    "catalog = 'VII/267/gwgc' # selecting catalog\n",
    "catalog_renamed = catalog.replace('/', '_')\n",
    "\n",
    "# selecting MOC coverage\n",
    "from mocpy import MOC\n",
    "moc = MOC.from_file( 'bayestar18951_MOC_0.9' )\n",
    "\n",
    "# sending to Aladin plane\n",
    "send_file( 'bayestar18951_MOC_0.9')\n",
    "rename ( 'bayestar18951_MOC_0.9' )\n",
    "\n",
    "# querying from MOC ignoring astropy.io.votable.exceptions\n",
    "import warnings\n",
    "with warnings.catch_warnings():\n",
    "    warnings.simplefilter(\"ignore\")\n",
    "    table = moc.query_vizier_table( catalog, max_rows = 100000 ) \n",
    "\n",
    "# file output: votable format\n",
    "table.write( catalog_renamed + 'MOC_query', format = 'votable', overwrite = True )\n",
    "\n",
    "# sending to the Aladin plane \n",
    "send_file( catalog_renamed + 'MOC_query' )\n",
    "\n",
    "# loading DSS colored for sky background\n",
    "get_hips( \"P/DSS2/color\" )"
   ]
  },
  {
   "cell_type": "markdown",
   "metadata": {},
   "source": [
    "<img src=\"https://github.com/ggreco77/Multi-Order-Coverage-of-probability-skymaps/blob/master/query_single_catalog.jpg?raw=true\" width=\"600\" height=\"600\"> \n",
    "**Catalog query from a MOC probability map (90% conf. level). See the completed and updated results in the section [Sky map visualization with Aladin](#1.A-Sky-map-visualization-with-Aladin)**"
   ]
  },
  {
   "cell_type": "code",
   "execution_count": null,
   "metadata": {
    "collapsed": true
   },
   "outputs": [],
   "source": [
    "# removing all planes\n",
    "rm_all()"
   ]
  },
  {
   "cell_type": "markdown",
   "metadata": {},
   "source": [
    "### 3.B Ranked list of galaxies in 3D sky map\n",
    "Singer et al. ([2016](https://arxiv.org/pdf/1603.07333v2.pdf)) discuss a rapid algorithm for obtaining joint three-dimensional estimates of sky location and luminosity distance from observations of binary neutron star mergers with Advanced LIGO and Virgo.   \n",
    "They argued that combining the reconstructed volumes with positions and redshifts of possible host galaxies can provide a manageable list of targets to search for optical or infrared emission. The 2MASS Redshift Survey (2MRS) (Huchra et al. [2012](http://arxiv.org/abs/1108.0669)) is downloaded for this purpose.\n",
    "In order to reduce the query time, the 2MRS is directly queried from the MOC region *e.g* in which the 90% of probability is enclosed. Here, the MOC map obtained in section [2.B Event id 18951](#2.B-Event-id-18951) is used.\n",
    "\n",
    "See [here](https://arxiv.org/pdf/1605.04242v1.pdf) for more details on the sample python code provided in the online supplement to the Letter [**GOING THE DISTANCE: MAPPING HOST GALAXIES OF LIGO AND VIRGO SOURCES IN THREE DIMENSIONS USING LOCAL COSMOGRAPHY AND TARGETED FOLLOW-UP.**](https://arxiv.org/pdf/1603.07333v2.pdf)"
   ]
  },
  {
   "cell_type": "code",
   "execution_count": null,
   "metadata": {
    "collapsed": false
   },
   "outputs": [],
   "source": [
    "# downloading 3D HEALPix sky map\n",
    "from astropy.utils.data import download_file\n",
    "url = ('http://asd.gsfc.nasa.gov/Leo.Singer/'+'going-the-distance/2015/compare/18951/'+'bayestar.fits.gz')\n",
    "filename = download_file(url, cache=True)\n",
    "\n",
    "# reading HEALPix layers\n",
    "import healpy as hp\n",
    "prob, distmu, distsigma, distnorm = hp.read_map(filename, \n",
    "                                                field=[0, 1, 2, 3], verbose=False)\n",
    "\n",
    "# HEALPix resolution \n",
    "npix = len(prob)\n",
    "nside = hp.npix2nside(npix)\n",
    "\n",
    "pixarea = hp.nside2pixarea(nside)\n",
    "\n",
    "# Ranking list of galaxies from a MOC region\n",
    "from mocpy import MOC\n",
    "moc = MOC.from_file( 'bayestar18951_MOC_0.9' )\n",
    "\n",
    "# sending to Aladin plane\n",
    "send_file( 'bayestar18951_MOC_0.9')\n",
    "rename ( 'bayestar18951_MOC_0.9' )\n",
    "\n",
    "catalog = 'J/ApJS/199/26/table3'  # 2MASS Redshift Survey \n",
    "\n",
    "# querying from MOC ignoring astropy.io.votable.exceptions\n",
    "import warnings\n",
    "with warnings.catch_warnings():\n",
    "    warnings.simplefilter(\"ignore\")\n",
    "    cat = moc.query_vizier_table( catalog, max_rows = 100000 )\n",
    "\n",
    "import numpy as np\n",
    "from scipy.special import gammaincinv\n",
    "\n",
    "completeness = 0.5\n",
    "alpha = -1.0\n",
    "MK_star = -23.55\n",
    "\n",
    "MK_max = MK_star + 2.5*np.log10(gammaincinv(alpha + 2, completeness))\n",
    "\n",
    "# selecting only galaxies with positive redshifts and absolute\n",
    "# magnitudes greater than M(max)\n",
    "from astropy.cosmology import WMAP9 as cosmo\n",
    "\n",
    "import astropy.units as u\n",
    "import astropy.constants as c\n",
    "\n",
    "z = (u.Quantity(cat['cz']) / c.c).to(u.dimensionless_unscaled)\n",
    "\n",
    "MK = cat['Ktmag'] - cosmo.distmod(z)\n",
    "keep = (z > 0) & (MK < MK_max)\n",
    "\n",
    "cat = cat[keep]\n",
    "z = z[keep]\n",
    "\n",
    "# luminosity distance and HEALPix index of each galaxy\n",
    "r = cosmo.luminosity_distance(z).to('Mpc').value\n",
    "\n",
    "theta = 0.5*np.pi - cat['_DEJ2000'].to('rad').value\n",
    "phi = cat['_RAJ2000'].to('rad').value\n",
    "ipix = hp.ang2pix(nside, theta, phi)\n",
    "\n",
    "# probability density per unit volume at the position of each galaxy\n",
    "from scipy.stats import norm\n",
    "dp_dV = prob[ipix]*distnorm[ipix]*norm(distmu[ipix], distsigma[ipix]).pdf(r) / pixarea\n",
    "\n",
    "#sorting the galaxies by descending probability density\n",
    "galaxies_in_moc = cat[np.flipud(np.argsort(dp_dV))][:]\n",
    "\n",
    "# adding probability galaxy position to the catalog\n",
    "from astropy.table import Column\n",
    "\n",
    "dp_dV_sort = np.flipud(np.argsort(dp_dV))[:]\n",
    "dp_dV_value = dp_dV[dp_dV_sort]\n",
    "\n",
    "# rounding\n",
    "dp_dV_value_round = []\n",
    "dp_dV_value_round = ['{:.3e}'.format(i) for i in dp_dV_value]\n",
    "\n",
    "probability_galaxy_position = Column(dp_dV_value_round, name = 'dp_dV')\n",
    "\n",
    "galaxies_in_moc.add_column(probability_galaxy_position, index=0)\n",
    "print (galaxies_in_moc['_RAJ2000', '_DEJ2000', 'Ktmag','dp_dV'])\n",
    "\n",
    "# sending to Aladin plane the weighted catalog \n",
    "galaxies_in_moc.write( 'ranked_list_galaxies', format = 'votable', overwrite = True )\n",
    "send_file( 'ranked_list_galaxies' )\n",
    "\n",
    "# loading DSS colored for sky background\n",
    "get_hips( \"P/DSS2/color\" )"
   ]
  },
  {
   "cell_type": "markdown",
   "metadata": {
    "collapsed": false
   },
   "source": [
    "<img src=\"https://github.com/ggreco77/Multi-Order-Coverage-of-probability-skymaps/blob/master/%20Ranked3Dsky%20map.png?raw=true\" width=\"600\" height=\"600\"> \n",
    "**2MASS Redshift Survey catalog; in the first column the probability density per unit volume at the position of each galaxy is reported. See the completed and updated results in the section [Sky map visualization with Aladin](#1.A-Sky-map-visualization-with-Aladin)**"
   ]
  },
  {
   "cell_type": "code",
   "execution_count": null,
   "metadata": {
    "collapsed": true
   },
   "outputs": [],
   "source": [
    "# removing all planes\n",
    "rm_all()"
   ]
  },
  {
   "cell_type": "markdown",
   "metadata": {},
   "source": [
    "### 3.C Queries running simultaneously"
   ]
  },
  {
   "cell_type": "markdown",
   "metadata": {},
   "source": [
    "Here we simultaneously query 6 VizieR tables footprints. The following catalogs are selected:\n",
    "**a**) Gravitational Wave Galaxy Catalogue (White [2011](https://arxiv.org/abs/1103.0695)); **b**) Compact Binary Coalescence Galaxy Catalog (Kopparapu et al., [2008](http://iopscience.iop.org/article/10.1086/527348/meta;jsessionid=B788E08A98425B3F35D19E56C6ABA2F3.c1.iopscience.cld.iop.org)); **c**) Catalogue of Rich Clusters of Galaxies (Abell et al., [1989](http://cdsads.u-strasbg.fr/cgi-bin/nph-bib_query?1989ApJS...70....1A&db_key=AST&nosetcookie=1)); **d**) Northern Cluster Catalog (Gal et al., [2009](http://iopscience.iop.org/article/10.1088/0004-6256/137/2/2981/meta)); **e**) MCXC Meta-Catalogue X-ray galaxy Clusters (Piffaretti et al., [2011](http://www.aanda.org/component/article?access=bibcode&bibcode=2011A%252526A...534A.109P)); **f**) 2MASS Redshift Survey (Huchra et al. [2012](http://arxiv.org/abs/1108.0669))\n",
    "Here the MOC map obtained in section [2.B Event id 18951](#2.B-Event-id-18951) is used."
   ]
  },
  {
   "cell_type": "code",
   "execution_count": null,
   "metadata": {
    "collapsed": false
   },
   "outputs": [],
   "source": [
    "# selecting catalogs\n",
    "catalogs = ['VII/267/gwgc','J/ApJ/675/1459/table1','VII/110A',\n",
    "            'J/AJ/137/2981','J/A+A/534/A109','J/ApJS/199/26/table3'] \n",
    "\n",
    "# selecting MOC coverage\n",
    "from mocpy import MOC\n",
    "moc = MOC.from_file( 'bayestar18951_MOC_0.9') \n",
    "\n",
    "# sending to Aladin plane\n",
    "send_file( 'bayestar18951_MOC_0.9')\n",
    "rename ( 'bayestar18951_MOC_0.9' )\n",
    "\n",
    "# querying from MOC ignoring astropy.io.votable.exceptions\n",
    "import warnings\n",
    "with warnings.catch_warnings():\n",
    "    warnings.simplefilter(\"ignore\")\n",
    "    for catalog in catalogs:\n",
    "        print ()\n",
    "        table = moc.query_vizier_table( catalog, max_rows = 100000 ) \n",
    "        print (table)\n",
    "        catalog_renamed = catalog.replace('/', '_')\n",
    "        table.write( catalog_renamed + 'MOC_query', format = 'votable', overwrite = True )\n",
    "        send_file( catalog_renamed + 'MOC_query' )\n",
    "        \n",
    "# loading DSS colored for sky background\n",
    "get_hips( \"P/DSS2/color\" )"
   ]
  },
  {
   "cell_type": "markdown",
   "metadata": {},
   "source": [
    "<img src=\"https://github.com/ggreco77/Multi-Order-Coverage-of-probability-skymaps/blob/master/queries_simultaneously.jpg?raw=true\" width=\"600\" height=\"600\"> \n",
    "**Multi-catalog query from a MOC probability map (90% conf. level). See the completed and updated results in the section [Sky map visualization with Aladin](#1.A-Sky-map-visualization-with-Aladin)**"
   ]
  },
  {
   "cell_type": "code",
   "execution_count": null,
   "metadata": {
    "collapsed": true
   },
   "outputs": [],
   "source": [
    "# removing all planes\n",
    "rm_all()"
   ]
  },
  {
   "cell_type": "markdown",
   "metadata": {},
   "source": [
    "# 4. Operation between MOC maps"
   ]
  },
  {
   "cell_type": "markdown",
   "metadata": {},
   "source": [
    "### 4.A Intersection between MOC skymaps and VizieR tables footprints"
   ]
  },
  {
   "cell_type": "markdown",
   "metadata": {
    "collapsed": true
   },
   "source": [
    "The operations between the MOC maps (union, intersection, subtraction, difference) are extremely simple and fast (generally a few milliseconds) even for very complex sky regions.\n",
    "Here the intersection between the DSS coverage and the MOC sky map in [2.B Event id 18951](#2.B-Event-id-18951) is shown. "
   ]
  },
  {
   "cell_type": "code",
   "execution_count": null,
   "metadata": {
    "collapsed": false
   },
   "outputs": [],
   "source": [
    "# selecting MOC coverage\n",
    "from mocpy import MOC\n",
    "moc_1 = MOC.from_file( 'bayestar18951_MOC_0.9' ) \n",
    "\n",
    "# sending to Aladin plane\n",
    "send_file( 'bayestar18951_MOC_0.9')\n",
    "rename ( 'bayestar18951_MOC_0.9' )\n",
    "\n",
    "# loading the MOC coverage map of SDSS Photometric Catalog (9)\n",
    "from astropy.utils.data import download_file\n",
    "url_id = 'http://alasky.u-strasbg.fr/footprints/tables/vizier/V_139_sdss9/MOC'\n",
    "sdss9 = download_file( url_id, cache = True, timeout = 300 )\n",
    "send_file( sdss9 )\n",
    "rename ( 'sdss9_MOC' )\n",
    "\n",
    "#load sdss9 MOC coverage\n",
    "moc_2 = MOC.from_file( sdss9 ) \n",
    "\n",
    "# Intersection operation and writing file\n",
    "inter = moc_1.intersection( moc_2 )\n",
    "inter.write( 'inter', format = 'fits')\n",
    "\n",
    "#sending to Aladin plane\n",
    "send_file( 'inter' )\n",
    "rename ( 'inter' )\n",
    "\n",
    "# loading DSS colored for sky background\n",
    "get_hips( \"P/DSS2/color\" )"
   ]
  },
  {
   "cell_type": "markdown",
   "metadata": {},
   "source": [
    "<img src=\"https://github.com/ggreco77/Multi-Order-Coverage-of-probability-skymaps/blob/master/intersection_sdss9_id18951.jpg?raw=true\" width=\"600\" height=\"600\"> \n",
    "**Intersection (in red) between the MOC map of SDSS Photometric Catalog (in blue) and MOC sky map at the 90% probability of event id 18951 (in white). See the completed and updated results in the section [Sky map visualization with Aladin](#1.A-Sky-map-visualization-with-Aladin)**"
   ]
  },
  {
   "cell_type": "code",
   "execution_count": null,
   "metadata": {
    "collapsed": true
   },
   "outputs": [],
   "source": [
    "# removing all planes\n",
    "rm_all()"
   ]
  },
  {
   "cell_type": "markdown",
   "metadata": {},
   "source": [
    "# 5. Utility  "
   ]
  },
  {
   "cell_type": "markdown",
   "metadata": {},
   "source": [
    "### 5.A Interactive MOCs\n",
    "The probability MOC regions are automatically generated by adjusting the probability threshold slider. The [2.B Event id 18951](#2.B-Event-id-18951) MOC sky map is choosen in the example. "
   ]
  },
  {
   "cell_type": "code",
   "execution_count": null,
   "metadata": {
    "collapsed": false,
    "scrolled": true
   },
   "outputs": [],
   "source": [
    "import ipywidgets as widgets\n",
    "from ipywidgets import interact, fixed\n",
    "\n",
    "# selecting an event id (2015);\n",
    "# http://www.ligo.org/scientists/first2years/\n",
    "event_id = '18951'\n",
    "\n",
    "# bayestar sky map\n",
    "skymap_pipeline = 'bayestar'\n",
    "\n",
    "# setting enclosed probability percentage \n",
    "prob_percentage = 0.9\n",
    "\n",
    "# loading the simulated CBC event id (2015)\n",
    "from astropy.utils.data import download_file\n",
    "\n",
    "url_id = 'http://www.ligo.org/scientists/first2years/2015/compare/'+event_id+'/'+skymap_pipeline+'.fits.gz'\n",
    "pipeline_event = download_file( url_id, cache = True, timeout = 300 )\n",
    "\n",
    "# sending to Aladin plane\n",
    "send_file ( pipeline_event )\n",
    "rename ( skymap_pipeline + event_id )\n",
    "\n",
    "# plotting contours from a specific url\n",
    "from mocpy import MOC\n",
    "get_json_link( 'https://losc.ligo.org/s/skymapViewer/json/skymaps/F2Y/'+event_id+'.json' )\n",
    "\n",
    "#slider MOC production\n",
    "interact( MOC_confidence_region, infile = pipeline_event, percentage = (0.1, 0.9, 0.1), \n",
    "         short_name = fixed( event_id ) )\n",
    "\n",
    "# loading DSS colored for sky background\n",
    "get_hips( \"P/DSS2/color\" )"
   ]
  },
  {
   "cell_type": "markdown",
   "metadata": {},
   "source": [
    "**See the completed and updated results in the section [Sky map visualization with Aladin](#1.A-Sky-map-visualization-with-Aladin)**"
   ]
  }
 ],
 "metadata": {
  "celltoolbar": "Raw Cell Format",
  "kernelspec": {
   "display_name": "Python 2",
   "language": "python",
   "name": "python2"
  },
  "language_info": {
   "codemirror_mode": {
    "name": "ipython",
    "version": 2
   },
   "file_extension": ".py",
   "mimetype": "text/x-python",
   "name": "python",
   "nbconvert_exporter": "python",
   "pygments_lexer": "ipython2",
   "version": "2.7.6"
  }
 },
 "nbformat": 4,
 "nbformat_minor": 0
}